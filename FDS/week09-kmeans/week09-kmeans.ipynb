{
 "cells": [
  {
   "cell_type": "markdown",
   "metadata": {},
   "source": [
    "# Inf2 - Foundations of Data Science\n",
    "## Week 09: K-Means"
   ]
  },
  {
   "cell_type": "markdown",
   "metadata": {},
   "source": [
    "**Learning outcomes:** \n",
    "In this lab you will implement the K-Means algorithm from scratch.\n",
    "\n",
    "By the end of the lab you should be able to:\n",
    "- implement and explain the different steps involved in K-Means,\n",
    "- explain what the benefits of clustering algorithms are,\n",
    "- explain what partitional clustering algorithms are,\n",
    "- and be able to use sklearn's K-Means algorithm.\n",
    "\n",
    "**Research question:**\n",
    "\n",
    "In this lab we will use K-means on the same breast cancer patients data to see how many types of cancer can be distinguished.\n",
    "\n",
    "**Data set information:** \n",
    "\n",
    "The data set is adapted from [UCI](https://archive.ics.uci.edu/ml/datasets/Breast+Cancer+Wisconsin+(Diagnostic)). It contains patient information taken from patients with breast cancer. "
   ]
  },
  {
   "cell_type": "code",
   "execution_count": 232,
   "metadata": {},
   "outputs": [],
   "source": [
    "import os\n",
    "import pandas as pd\n",
    "import numpy as np\n",
    "import matplotlib.pyplot as plt\n",
    "import seaborn as sns\n",
    "import math\n",
    "#Importing sklearn functions\n",
    "from sklearn.decomposition import PCA\n",
    "from sklearn.preprocessing import StandardScaler\n",
    "from sklearn.metrics.pairwise import pairwise_distances\n",
    "from sklearn.cluster import KMeans"
   ]
  },
  {
   "cell_type": "markdown",
   "metadata": {},
   "source": [
    "Clustering refers to a group of unsupervised learning algorithms, one of which is K-means. Each cluster is a group of data points in which points should be more similar to each other than they are to points in other clusters. Clustering is used to interpret and compress data. Interpretation can help to deepen our knowledge of the dataset. For example in medicine, we might be interested in particular clusters of symptoms of a disease. For example, researchers at King's College have identified six clusters of patterns of [Coronavirus symptoms over time](https://www.medrxiv.org/content/10.1101/2020.06.12.20129056v1.full.pdf). The cluster labels can then be used as independent variables with hospitalisation as dependent variable to build a model predicting the likelihood of hospitalisation given a cluster membership.\n",
    "\n",
    "K-Means belongs to the group of *partitional clustering* algorithms, in which we partition the data into $K$ non-overlapping clusters; each data point can only belong to exactly one cluster. If you are interested in other clustering algorithms, such as *hierarchical* or *density based* clustering, we invite you to read the following [paper](https://link.springer.com/content/pdf/10.1007/s40745-015-0040-1.pdf), or take IAML in your honours years.\n",
    "\n",
    "Partitional clustering algorithms are non-deterministic, which means that each run can lead to different clusters even on the same data set. The main benefits of partitional clustering algorithms are their simplicity and low computational complexity. However, they are also only well suited for spherical clusters and do not cope well with complex shapes. \n",
    "\n",
    "The following pseudo code should help you remember from the lecture how the algorithm works:  "
   ]
  },
  {
   "cell_type": "code",
   "execution_count": 233,
   "metadata": {},
   "outputs": [],
   "source": [
    "# Choose k centroids randomly\n",
    "# While(centroids are not the same as in the previous iteration) do:\n",
    "    # Assign each data point to its closest centroid\n",
    "    # Compute new centroid based on the mean of all the points in the cluster\n",
    "# end while"
   ]
  },
  {
   "cell_type": "markdown",
   "metadata": {},
   "source": [
    "## 9.A Implementing K-Means"
   ]
  },
  {
   "cell_type": "markdown",
   "metadata": {},
   "source": [
    "The first step is to initialize the centroids. The easiest way would be to just take the first `K` data points. However, we also know that the result of K-Means depends on the initial centroids, and thus a random assignment is beneficial to allow for more restarts.\n",
    "\n",
    "**Exercise 01:** \n",
    "- Create a function `initialize_centroids()`. It should take as parameters `data`, a numpy 2-dimensional array in which each row is an instance ($\\mathbf x_i$ in the lecture notes) and `n_clusters` the number of clusters we are looking for ($K$ in the lecture notes). (Remark: we use `n_clusters` instead of `k_clusters`, as this is the notation used in sklearn and it won't confuse you once you use the sklearn functions.)\n",
    "- Create an array `random_data_points` with `n_clusters` random integers in the range from 0 to the length of the data set. \n",
    "\n",
    "Hint: You can either create a loop which gets a [random number](https://pynative.com/python-random-randrange/) between 0 and the length of the data set, and appends the value to the `random_data_points` array (remember that each value appended to the array needs to be distinct), or you can use [numpy's](https://docs.scipy.org/doc/numpy-1.15.0/reference/generated/numpy.random.permutation.html) `random.permutation` function to create an array of same length as the data set with randomly permutated integers between 0 and length of the data set, and take the first `n_clusters` values of that array and assign it to `random_data_points`. \n",
    "\n",
    "- Finally, create a new numpy array by filtering from the data sets the rows corresponding to the randomly chosen numbers. and return it."
   ]
  },
  {
   "cell_type": "code",
   "execution_count": 234,
   "metadata": {},
   "outputs": [],
   "source": [
    "# Your code\n",
    "def initialize_centroids(data, n_clusters):\n",
    "    length = len(data)\n",
    "    random_data_points = [np.random.randint(0, length) for i in range(n_clusters)]\n",
    "    random_select = np.array(data[random_data_points])\n",
    "    return random_select"
   ]
  },
  {
   "cell_type": "markdown",
   "metadata": {},
   "source": [
    "The next step consists of assigning each data point to a cluster.\n",
    "\n",
    "**Exercise 02:**\n",
    "- Create a function `assign_clusters()`. It should take as parameters `data` and `centroids`.\n",
    "- Use `pairwise_distance(data, centroids, metric='euclidean')` from the sklearn library (which we have imported above) to compute the distance of each data point to each of the centroids. Look up the [documentation](https://scikit-learn.org/stable/modules/generated/sklearn.metrics.pairwise_distances.html) to understand how the function works, and what the return value is. Store the returned value in a new variable `euclidean_distance`.\n",
    "- Find the centroid that is closest to each data point, and store the array with the numbers representing the centroids for each data point in an array `assigned_clusters`. Hint: numpy's `argmin()` might help to find the centroid with the minimal distance. \n",
    "- Return `assigned_clusters`."
   ]
  },
  {
   "cell_type": "code",
   "execution_count": 235,
   "metadata": {},
   "outputs": [],
   "source": [
    "# Your code\n",
    "def assign_clusters(data, centroids):\n",
    "    euclidean_distance = pairwise_distances(data, centroids, metric='euclidean')\n",
    "    assigened_clusters = np.argmin(euclidean_distance, axis=1)\n",
    "    return assigened_clusters"
   ]
  },
  {
   "cell_type": "markdown",
   "metadata": {},
   "source": [
    "The last step to compute the optimal centroids is to update the centroids, based on their assignment of the previous iteration.\n",
    "\n",
    "**Exercise 03:**\n",
    "- Create a function `update_centroids()`. It should take as parameters `data`, `n_clusters` and `assigned_clusters`.\n",
    "- For each cluster, compute the mean for each feature of all the data points in the cluster. You can use a loop or a list comprehension, and remember the numpy mean() function - but make sure you get the `axis` argument right.\n",
    "- Create a 2-dimensional array `centroids` such that each row in the matrix contains the list of means computed for each cluster.\n",
    "- Return the `centroids` as a 2-dimensional array, with each row containing one centroid.\n",
    "\n",
    "Hint: The type of the final returned value should be a ndarray."
   ]
  },
  {
   "cell_type": "code",
   "execution_count": 236,
   "metadata": {},
   "outputs": [],
   "source": [
    "# Your code\n",
    "def update_centroids(data, n_clusters, assigned_clusters):\n",
    "    centroids = [np.zeros(len(data[0]))] * n_clusters\n",
    "    count = [0] * n_clusters\n",
    "    for i, n in enumerate(assigned_clusters):\n",
    "        count[n] += 1\n",
    "        centroids[n] = centroids[n] + data[i]\n",
    "    centroids = [centroids[i] / count[i] for i in range(n_clusters)]\n",
    "    return np.array(centroids)"
   ]
  },
  {
   "cell_type": "markdown",
   "metadata": {},
   "source": [
    "Now we have all the auxiliary functions that we need to finish to write our K-means algorithm. We are going to structure the code in a similar way to sklearn.\n",
    "\n",
    "**Remark:** For every model sklearn implements there is a class with  `fit()` and `predict()` methods. The `fit()` method trains the model and the `predict()` method allows us to determine the classification of a seen or unseen data point. The term \"predict\" is perhaps a bit misleading in the case of K-means, where `.predict()` means \"determine the cluster of a data point\".\n",
    "\n",
    "**Exercise 04:**\n",
    "We have prepared a skeleton for a class called `K_Means`. We have also already prepared the constructor. Your job is now to add two methods: `fit()` and `predict()`.\n",
    "- For the `fit()` method, look at the pseudo code above, and use the three functions you have coded previously to fit the model. Store the final centroids to `self.centroids`.\n",
    "- The `predict()` method should take only one observation as input and compute to which centroid the distance is minimal, and then return the value of the centroid. (Careful: It will probably return an array with just one entry, but it should just return an integer.) "
   ]
  },
  {
   "cell_type": "code",
   "execution_count": 237,
   "metadata": {},
   "outputs": [],
   "source": [
    "# Choose k centroids randomly\n",
    "# While(centroids are not the same as in the previous iteration) do:\n",
    "    # Assign each data point to its closest centroid\n",
    "    # Compute new centroid based on the mean of all the points in the cluster\n",
    "# end while\n",
    "def compare(prev, curr):\n",
    "    res = True\n",
    "    for i in range(len(prev)):\n",
    "        for j in range(len(prev[i])):\n",
    "            res = res and prev[i][j] == curr[i][j]\n",
    "    return res\n",
    "\n",
    "class K_Means:\n",
    "    def __init__(self, n_clusters=2, max_iter=100):\n",
    "        self.n_clusters = n_clusters\n",
    "        self.centroids = None\n",
    "        self.max_iter = max_iter\n",
    "        \n",
    "    def fit(self, data):\n",
    "        prev = None\n",
    "        curr = initialize_centroids(data, self.n_clusters)\n",
    "        iter_ = 0\n",
    "        while prev is None or not compare(prev, curr) or iter_ < self.max_iter:\n",
    "            prev = curr\n",
    "            assigned_clusters = assign_clusters(data, curr)\n",
    "            curr = update_centroids(data, self.n_clusters, assigned_clusters)\n",
    "            iter_ += 1\n",
    "        self.centroids = curr\n",
    "        \n",
    "    def predict(self, observation):\n",
    "        observation = np.array([observation])\n",
    "        result = assign_clusters(observation, self.centroids)\n",
    "        return self.centroids[result]\n",
    "    \n",
    "    \n",
    "        \n",
    "        \n",
    "# Your code        \n"
   ]
  },
  {
   "cell_type": "markdown",
   "metadata": {},
   "source": [
    "**Discussion:** Before we apply the K-means algorithm, it is a good idea to standardize your data. Try to remember with your lab partner why standardization is important."
   ]
  },
  {
   "cell_type": "markdown",
   "metadata": {},
   "source": [
    "Your answer:"
   ]
  },
  {
   "cell_type": "markdown",
   "metadata": {},
   "source": [
    "## 9.B Applying K-Means"
   ]
  },
  {
   "cell_type": "markdown",
   "metadata": {},
   "source": [
    "We are given a data set of breast cancer patients. Our aim is to see if we can cluster the breast cancer data into two categories.\n",
    "\n",
    "**Exercise 05:** \n",
    "- Load the `breast_cancer.csv` data set from `datasets`. We have preprocessed the data set for you. All unnecessary columns and rows with NaN values have been removed.\n",
    "- We need to standardize the `breast_cancer` data. We can either\n",
    "  - use the standardize() from the last lab or \n",
    "  - use the sklearn `StandardScaler()` class. Here is the [documentation](https://scikit-learn.org/stable/modules/generated/sklearn.preprocessing.StandardScaler.html).\n",
    "- Display your standardized data sets."
   ]
  },
  {
   "cell_type": "code",
   "execution_count": 238,
   "metadata": {},
   "outputs": [],
   "source": [
    "# Your code\n",
    "datasets = pd.read_csv('datasets/breast_cancer.csv')\n",
    "scaler = StandardScaler()\n",
    "scaler.fit(datasets)\n",
    "datasets = scaler.transform(datasets)"
   ]
  },
  {
   "cell_type": "markdown",
   "metadata": {},
   "source": [
    "Let us now run our K-means algorithm on our data set.\n",
    "\n",
    "**Exercise 06:**\n",
    "- Instantiate a `K_Means` object with `n_clusters=2` parameters.\n",
    "- Fit the model with your standardized data set.\n",
    "- Print the centroids.\n",
    "- Use [sklearn's native K-Means class](https://scikit-learn.org/stable/modules/generated/sklearn.cluster.KMeans.html) to compute the centroids, and print them out. Do you get similar results?"
   ]
  },
  {
   "cell_type": "code",
   "execution_count": 239,
   "metadata": {},
   "outputs": [
    {
     "name": "stdout",
     "output_type": "stream",
     "text": [
      "Self fit:\n",
      "[[ 0.06745285  0.93362406  0.4620646   0.96730462  0.92424266  0.60116657\n",
      "   1.01678879  1.11927003  1.13499581  0.59745592  0.28828783  0.82729086\n",
      "   0.0408053   0.83306382  0.77658149  0.0460656   0.71559384  0.64677371\n",
      "   0.76877382  0.14483925  0.45777508  1.00100618  0.48610441  1.02895252\n",
      "   0.96525332  0.61097579  0.95149718  1.0377126   1.12132923  0.58638203\n",
      "   0.65089347]\n",
      " [-0.03489561 -0.48299485 -0.23904142 -0.50041892 -0.47814154 -0.3110035\n",
      "  -0.52601873 -0.57903569 -0.58717117 -0.30908386 -0.1491409  -0.42798514\n",
      "  -0.02110994 -0.43097168 -0.40175149 -0.02383127 -0.37020054 -0.3345976\n",
      "  -0.39771232 -0.07493017 -0.23682231 -0.51785387 -0.25147802 -0.53231144\n",
      "  -0.49935772 -0.31607814 -0.49224121 -0.53684332 -0.58010099 -0.30335497\n",
      "  -0.33672889]]\n",
      "Model fit:\n",
      "[[ 0.07548132  0.97397614  0.48151381  1.0066346   0.96352718  0.60925407\n",
      "   1.020696    1.13942935  1.16458212  0.61113855  0.25222982  0.85859633\n",
      "   0.04274078  0.86027888  0.8071077   0.01706063  0.69505052  0.63689512\n",
      "   0.77623856  0.14038222  0.41503212  1.04008365  0.50631048  1.06597067\n",
      "   1.00315418  0.60829274  0.95083725  1.04429844  1.14621103  0.59741617\n",
      "   0.62246932]\n",
      " [-0.03754203 -0.48442497 -0.23948977 -0.50066826 -0.47922799 -0.30302374\n",
      "  -0.50766196 -0.56671617 -0.57922637 -0.30396101 -0.12545115 -0.4270387\n",
      "  -0.02125791 -0.42787555 -0.40142988 -0.00848542 -0.34569618 -0.31677152\n",
      "  -0.38607654 -0.06982168 -0.20642387 -0.51730476 -0.25182285 -0.53018015\n",
      "  -0.49893721 -0.3025456  -0.47291642 -0.51940106 -0.57008917 -0.29713594\n",
      "  -0.30959659]]\n"
     ]
    }
   ],
   "source": [
    "# Your code\n",
    "self_fit = K_Means()\n",
    "self_fit.fit(datasets)\n",
    "print(\"Self fit:\")\n",
    "print(self_fit.centroids)\n",
    "model_fit = KMeans(n_clusters=2).fit(datasets)\n",
    "print(\"Model fit:\")\n",
    "print(model_fit.cluster_centers_)"
   ]
  },
  {
   "cell_type": "markdown",
   "metadata": {},
   "source": [
    "**Remark:** If you run the code several times, you might get a slightly different result every time."
   ]
  },
  {
   "cell_type": "markdown",
   "metadata": {},
   "source": [
    "**Exercise 07:**\n",
    "\n",
    "In some cases, if the data set is very large the optimization can take a very long time. Add an object variable to your object called `max_iter` in the object constructor with a default value 100. Add an extra iteration variable to your loop and a condition to the loop that breaks the loop once the iterator is greater than `max_iter`."
   ]
  },
  {
   "cell_type": "code",
   "execution_count": 240,
   "metadata": {},
   "outputs": [
    {
     "name": "stdout",
     "output_type": "stream",
     "text": [
      "Self fit:\n",
      "[[ 0.07548132  0.97397614  0.48151381  1.0066346   0.96352718  0.60925407\n",
      "   1.020696    1.13942935  1.16458212  0.61113855  0.25222982  0.85859633\n",
      "   0.04274078  0.86027888  0.8071077   0.01706063  0.69505052  0.63689512\n",
      "   0.77623856  0.14038222  0.41503212  1.04008365  0.50631048  1.06597067\n",
      "   1.00315418  0.60829274  0.95083725  1.04429844  1.14621103  0.59741617\n",
      "   0.62246932]\n",
      " [-0.03754203 -0.48442497 -0.23948977 -0.50066826 -0.47922799 -0.30302374\n",
      "  -0.50766196 -0.56671617 -0.57922637 -0.30396101 -0.12545115 -0.4270387\n",
      "  -0.02125791 -0.42787555 -0.40142988 -0.00848542 -0.34569618 -0.31677152\n",
      "  -0.38607654 -0.06982168 -0.20642387 -0.51730476 -0.25182285 -0.53018015\n",
      "  -0.49893721 -0.3025456  -0.47291642 -0.51940106 -0.57008917 -0.29713594\n",
      "  -0.30959659]]\n",
      "Model fit:\n",
      "[[-0.03754203 -0.48442497 -0.23948977 -0.50066826 -0.47922799 -0.30302374\n",
      "  -0.50766196 -0.56671617 -0.57922637 -0.30396101 -0.12545115 -0.4270387\n",
      "  -0.02125791 -0.42787555 -0.40142988 -0.00848542 -0.34569618 -0.31677152\n",
      "  -0.38607654 -0.06982168 -0.20642387 -0.51730476 -0.25182285 -0.53018015\n",
      "  -0.49893721 -0.3025456  -0.47291642 -0.51940106 -0.57008917 -0.29713594\n",
      "  -0.30959659]\n",
      " [ 0.07548132  0.97397614  0.48151381  1.0066346   0.96352718  0.60925407\n",
      "   1.020696    1.13942935  1.16458212  0.61113855  0.25222982  0.85859633\n",
      "   0.04274078  0.86027888  0.8071077   0.01706063  0.69505052  0.63689512\n",
      "   0.77623856  0.14038222  0.41503212  1.04008365  0.50631048  1.06597067\n",
      "   1.00315418  0.60829274  0.95083725  1.04429844  1.14621103  0.59741617\n",
      "   0.62246932]]\n"
     ]
    }
   ],
   "source": [
    "# Your code\n",
    "self_fit = K_Means()\n",
    "self_fit.fit(datasets)\n",
    "print(\"Self fit:\")\n",
    "print(self_fit.centroids)\n",
    "model_fit = KMeans(n_clusters=2).fit(datasets)\n",
    "print(\"Model fit:\")\n",
    "print(model_fit.cluster_centers_)"
   ]
  },
  {
   "cell_type": "markdown",
   "metadata": {},
   "source": [
    "**Exercise 08:**\n",
    "\n",
    "Finally, we would like to plot the centroids. However, our data is high-dimensional. By now you should think \"Too many dimensions? -> PCA\".\n",
    "\n",
    "- Apply PCA to your standardized dataset - we suggest you use 3 components, but you may wish to look at how much variance is explained by each component using `pca.explained_variance_ratio_`\n",
    "- Apply K-means to the PCA scores, using `max_iter = 5`. (Run it several times to see whether the centroids remain the same.)\n",
    "- Plot the scatter plot of the first two dimensions, colouring the two clusters differently.\n",
    "- Plot the two centroids with different markers.\n",
    "- Repeat the exercise with `max_iter=100`. (Run it several times to see, whether this time the centroids have converged.) "
   ]
  },
  {
   "cell_type": "code",
   "execution_count": 249,
   "metadata": {},
   "outputs": [
    {
     "data": {
      "text/plain": [
       "<matplotlib.legend.Legend at 0x7fe3d2027490>"
      ]
     },
     "execution_count": 249,
     "metadata": {},
     "output_type": "execute_result"
    },
    {
     "data": {
      "image/png": "[encoded data removed]",
      "text/plain": [
       "<Figure size 432x288 with 1 Axes>"
      ]
     },
     "metadata": {
      "needs_background": "light"
     },
     "output_type": "display_data"
    }
   ],
   "source": [
    "# Your code\n",
    "pca = PCA(n_components=3).fit(datasets)\n",
    "pca_dataset = pca.transform(datasets)\n",
    "pca_model = KMeans(n_clusters=2, max_iter=5).fit(pca_dataset)\n",
    "pca_assigned_clusters = pca_model.predict(pca_dataset)\n",
    "# Data points\n",
    "pca_data = pd.DataFrame(pca_dataset)\n",
    "pca_data.columns = ['pc1', 'pc2', 'pc3']\n",
    "pca_data['cluster'] = pca_assigned_clusters\n",
    "plt.scatter(pca_data[pca_data.cluster == 0]['pc1'], pca_data[pca_data.cluster == 0]['pc2'], label='Cluster 0')\n",
    "plt.scatter(pca_data[pca_data.cluster == 1]['pc1'], pca_data[pca_data.cluster == 1]['pc2'], label='Cluster 1')\n",
    "# cluster centers\n",
    "pca_clusters = pd.DataFrame(pca_model.cluster_centers_)\n",
    "pca_clusters.columns = ['pc1', 'pc2', 'pc3']\n",
    "pca_clusters['no'] = [0,1]\n",
    "plt.scatter(pca_clusters['pc1'], pca_clusters['pc2'], s=100, c='black', label='Centroids')\n",
    "plt.legend()"
   ]
  },
  {
   "cell_type": "code",
   "execution_count": 250,
   "metadata": {},
   "outputs": [
    {
     "data": {
      "text/plain": [
       "<matplotlib.legend.Legend at 0x7fe3d11329d0>"
      ]
     },
     "execution_count": 250,
     "metadata": {},
     "output_type": "execute_result"
    },
    {
     "data": {
      "image/png": "[encoded data removed]",
      "text/plain": [
       "<Figure size 432x288 with 1 Axes>"
      ]
     },
     "metadata": {
      "needs_background": "light"
     },
     "output_type": "display_data"
    }
   ],
   "source": [
    "# Your code (for max_iter=100)\n",
    "pca = PCA(n_components=3).fit(datasets)\n",
    "pca_dataset = pca.transform(datasets)\n",
    "pca_model = KMeans(n_clusters=2, max_iter=100).fit(pca_dataset)\n",
    "pca_assigned_clusters = pca_model.predict(pca_dataset)\n",
    "# Data points\n",
    "pca_data = pd.DataFrame(pca_dataset)\n",
    "pca_data.columns = ['pc1', 'pc2', 'pc3']\n",
    "pca_data['cluster'] = pca_assigned_clusters\n",
    "plt.scatter(pca_data[pca_data.cluster == 0]['pc1'], pca_data[pca_data.cluster == 0]['pc2'], label='Cluster 0')\n",
    "plt.scatter(pca_data[pca_data.cluster == 1]['pc1'], pca_data[pca_data.cluster == 1]['pc2'], label='Cluster 1')\n",
    "# cluster centers\n",
    "pca_clusters = pd.DataFrame(pca_model.cluster_centers_)\n",
    "pca_clusters.columns = ['pc1', 'pc2', 'pc3']\n",
    "pca_clusters['no'] = [0,1]\n",
    "plt.scatter(pca_clusters['pc1'], pca_clusters['pc2'], s=100, c='black', label='Centroids')\n",
    "plt.legend()"
   ]
  },
  {
   "cell_type": "markdown",
   "metadata": {},
   "source": [
    "It looks like there are two reasonably well-separated clusters. Let's compare how well they match the benign and malignant clusters from the dataset from our previous lab.\n",
    "\n",
    "**Exercise 09:**\n",
    "\n",
    "- Load the `breast_cancer_diagnosis.csv` dataset, which in addition to the previous dimensions, contains the diagnosis `M` (malignant) or `B` (benign).\n",
    "- Plot the scatter plot of the first two dimensions of the pca scores from the last exercise, but this time colouring the benign and malignant classes differently."
   ]
  },
  {
   "cell_type": "code",
   "execution_count": 254,
   "metadata": {},
   "outputs": [
    {
     "data": {
      "text/plain": [
       "<matplotlib.legend.Legend at 0x7fe3eef53710>"
      ]
     },
     "execution_count": 254,
     "metadata": {},
     "output_type": "execute_result"
    },
    {
     "data": {
      "image/png": "[encoded data removed]",
      "text/plain": [
       "<Figure size 432x288 with 1 Axes>"
      ]
     },
     "metadata": {
      "needs_background": "light"
     },
     "output_type": "display_data"
    }
   ],
   "source": [
    "# Your code\n",
    "bc_diagnosis = pd.read_csv('datasets/breast_cancer_diagnosis.csv')\n",
    "pca = PCA(n_components=3).fit(datasets)\n",
    "pca_dataset = pca.transform(datasets)\n",
    "pca_model = KMeans(n_clusters=2, max_iter=100).fit(pca_dataset)\n",
    "pca_assigned_clusters = pca_model.predict(pca_dataset)\n",
    "# Data points\n",
    "pca_data = pd.DataFrame(pca_dataset)\n",
    "pca_data.columns = ['pc1', 'pc2', 'pc3']\n",
    "pca_data['outcome'] = bc_diagnosis['diagnosis']\n",
    "plt.scatter(pca_data[pca_data.outcome == 'M']['pc1'], pca_data[pca_data.outcome == 'M']['pc2'], label='M')\n",
    "plt.scatter(pca_data[pca_data.outcome == 'B']['pc1'], pca_data[pca_data.outcome == 'B']['pc2'], label='B')\n",
    "# cluster centers\n",
    "pca_clusters = pd.DataFrame(pca_model.cluster_centers_)\n",
    "pca_clusters.columns = ['pc1', 'pc2', 'pc3']\n",
    "pca_clusters['no'] = [0,1]\n",
    "plt.scatter(pca_clusters['pc1'], pca_clusters['pc2'], s=100, c='black', label='Centroids')\n",
    "plt.legend()"
   ]
  },
  {
   "cell_type": "markdown",
   "metadata": {},
   "source": [
    "**Exercise 10:**\n",
    "- Count the numbers of benign and malignant patients in each cluster.\n",
    "- Which cluster best corresponds to each diagnosis?"
   ]
  },
  {
   "cell_type": "code",
   "execution_count": 257,
   "metadata": {},
   "outputs": [
    {
     "name": "stdout",
     "output_type": "stream",
     "text": [
      "Cluster 0 benign: 175\n",
      "Cluster 0 malignant: 14\n",
      "Cluster 1 benign: 37\n",
      "Cluster 1 malignant: 343\n"
     ]
    }
   ],
   "source": [
    "# Your code\n",
    "cluster0_M = 0\n",
    "cluster0_B = 0\n",
    "cluster1_M = 0\n",
    "cluster1_B = 0\n",
    "for i,diag in zip(pca_assigned_clusters, bc_diagnosis['diagnosis']):\n",
    "    if i == 0:\n",
    "        if diag == 'M':\n",
    "            cluster0_M += 1\n",
    "        else:\n",
    "            cluster0_B += 1\n",
    "    else:\n",
    "        if diag == 'M':\n",
    "            cluster1_M += 1\n",
    "        else:\n",
    "            cluster1_B += 1\n",
    "print(\"Cluster 0 benign:\", cluster0_M)\n",
    "print(\"Cluster 0 malignant:\", cluster0_B)\n",
    "print(\"Cluster 1 benign:\", cluster1_M)\n",
    "print(\"Cluster 1 malignant:\", cluster1_B)"
   ]
  },
  {
   "cell_type": "markdown",
   "metadata": {},
   "source": [
    "**Discussion:**\n",
    "\n",
    "You have learned a lot in the last few labs:\n",
    "\n",
    "- Cleaning your data.\n",
    "- Plotting your data.\n",
    "- Applying PCA and K-Means.\n",
    "\n",
    "And you have used all those skills in this lab. However, there are a couple of things you should think about. Discuss the following points with your lab partner.\n",
    "\n",
    "- How could you prevent your model from overfitting to the data?\n",
    "- We have already discussed `max_iter` as one option to stop the optimization if it takes too long. What is a different criterion based on which we could stop the optimization?\n",
    "\n",
    "*Hint:* Look at the sklearn documentation of K-Means, the parameters might give you some ideas."
   ]
  },
  {
   "cell_type": "markdown",
   "metadata": {},
   "source": [
    "Your answer:"
   ]
  },
  {
   "cell_type": "markdown",
   "metadata": {},
   "source": [
    "**We need your help:** This is a new course. In order for us to improve the labs for the next iterations, and to make sure that the next labs are better, we need your feedback. Please fill out the following [form](https://forms.office.com/Pages/ResponsePage.aspx?id=sAafLmkWiUWHiRCgaTTcYZmGMCx4KxlMjSTITqjdcXpUMTNCSlU4SzhaTVAyMjJGVlRWSUtaM1ZLQi4u)."
   ]
  }
 ],
 "metadata": {
  "anaconda-cloud": {},
  "kernelspec": {
   "display_name": "Python 3",
   "language": "python",
   "name": "python3"
  },
  "language_info": {
   "codemirror_mode": {
    "name": "ipython",
    "version": 3
   },
   "file_extension": ".py",
   "mimetype": "text/x-python",
   "name": "python",
   "nbconvert_exporter": "python",
   "pygments_lexer": "ipython3",
   "version": "3.7.6"
  }
 },
 "nbformat": 4,
 "nbformat_minor": 1
}
